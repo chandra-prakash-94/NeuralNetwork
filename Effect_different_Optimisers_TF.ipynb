{
  "nbformat": 4,
  "nbformat_minor": 0,
  "metadata": {
    "colab": {
      "provenance": [],
      "authorship_tag": "ABX9TyPg29WypMDAOzlcoC6fZX7A",
      "include_colab_link": true
    },
    "kernelspec": {
      "name": "python3",
      "display_name": "Python 3"
    },
    "language_info": {
      "name": "python"
    },
    "accelerator": "GPU",
    "gpuClass": "standard"
  },
  "cells": [
    {
      "cell_type": "markdown",
      "metadata": {
        "id": "view-in-github",
        "colab_type": "text"
      },
      "source": [
        "<a href=\"https://colab.research.google.com/github/chandra-prakash-94/NeuralNetwork/blob/main/Effect_different_Optimisers_TF.ipynb\" target=\"_parent\"><img src=\"https://colab.research.google.com/assets/colab-badge.svg\" alt=\"Open In Colab\"/></a>"
      ]
    },
    {
      "cell_type": "code",
      "source": [
        "## Regd No. - 22-27-04\n",
        "## Name:     Chandra Prakash\n",
        "## M Tech Data Science"
      ],
      "metadata": {
        "id": "gNqPlF7ZD-r5"
      },
      "execution_count": null,
      "outputs": []
    },
    {
      "cell_type": "code",
      "execution_count": null,
      "metadata": {
        "id": "pV_J_SOXOUWS"
      },
      "outputs": [],
      "source": [
        "import tensorflow as tf\n",
        "from tensorflow import keras\n",
        "import matplotlib.pyplot as plt\n",
        "import numpy as np"
      ]
    },
    {
      "cell_type": "markdown",
      "source": [
        "Loading MNIST data set"
      ],
      "metadata": {
        "id": "6WKSlSHjFEq_"
      }
    },
    {
      "cell_type": "code",
      "source": [
        "(X_train, y_train) , (X_test, y_test) = keras.datasets.mnist.load_data()"
      ],
      "metadata": {
        "colab": {
          "base_uri": "https://localhost:8080/"
        },
        "id": "BPDfDITdtQpr",
        "outputId": "d7e84c00-a697-40ba-fd8e-61ef3cad1e12"
      },
      "execution_count": null,
      "outputs": [
        {
          "output_type": "stream",
          "name": "stdout",
          "text": [
            "Downloading data from https://storage.googleapis.com/tensorflow/tf-keras-datasets/mnist.npz\n",
            "11490434/11490434 [==============================] - 2s 0us/step\n"
          ]
        }
      ]
    },
    {
      "cell_type": "code",
      "source": [
        "len(X_train)"
      ],
      "metadata": {
        "colab": {
          "base_uri": "https://localhost:8080/"
        },
        "id": "8Fu0FDDCtvEa",
        "outputId": "9c1ceb84-8a0a-403d-e90f-fd68838f0768"
      },
      "execution_count": null,
      "outputs": [
        {
          "output_type": "execute_result",
          "data": {
            "text/plain": [
              "60000"
            ]
          },
          "metadata": {},
          "execution_count": 4
        }
      ]
    },
    {
      "cell_type": "code",
      "source": [
        "len(X_test)"
      ],
      "metadata": {
        "colab": {
          "base_uri": "https://localhost:8080/"
        },
        "id": "mchscd5-t3Ca",
        "outputId": "a4b2802a-7ce1-46b8-b630-88d0ba732f31"
      },
      "execution_count": null,
      "outputs": [
        {
          "output_type": "execute_result",
          "data": {
            "text/plain": [
              "10000"
            ]
          },
          "metadata": {},
          "execution_count": 5
        }
      ]
    },
    {
      "cell_type": "code",
      "source": [
        "X_train[0].shape"
      ],
      "metadata": {
        "colab": {
          "base_uri": "https://localhost:8080/"
        },
        "id": "Ab0IXxyct5Ei",
        "outputId": "01bbacd0-0274-4470-dfc8-c108dc93ea4c"
      },
      "execution_count": null,
      "outputs": [
        {
          "output_type": "execute_result",
          "data": {
            "text/plain": [
              "(28, 28)"
            ]
          },
          "metadata": {},
          "execution_count": 6
        }
      ]
    },
    {
      "cell_type": "code",
      "source": [
        "X_train[0]"
      ],
      "metadata": {
        "id": "I54vqMi-uMpy"
      },
      "execution_count": null,
      "outputs": []
    },
    {
      "cell_type": "code",
      "source": [
        "X_train[0].ndim"
      ],
      "metadata": {
        "colab": {
          "base_uri": "https://localhost:8080/"
        },
        "id": "ZGUZpc2xugiy",
        "outputId": "ebb67ca3-9fa2-4483-ddd1-0638f87170b6"
      },
      "execution_count": null,
      "outputs": [
        {
          "output_type": "execute_result",
          "data": {
            "text/plain": [
              "2"
            ]
          },
          "metadata": {},
          "execution_count": 8
        }
      ]
    },
    {
      "cell_type": "code",
      "source": [
        "plt.matshow(X_train[5])"
      ],
      "metadata": {
        "colab": {
          "base_uri": "https://localhost:8080/",
          "height": 292
        },
        "id": "gMMxvCbDuslh",
        "outputId": "64c60883-922c-4c5b-a67d-c6194713fc50"
      },
      "execution_count": null,
      "outputs": [
        {
          "output_type": "execute_result",
          "data": {
            "text/plain": [
              "<matplotlib.image.AxesImage at 0x7fb59542eaf0>"
            ]
          },
          "metadata": {},
          "execution_count": 9
        },
        {
          "output_type": "display_data",
          "data": {
            "text/plain": [
              "<Figure size 288x288 with 1 Axes>"
            ],
            "image/png": "[encoded data removed]"
          },
          "metadata": {
            "needs_background": "light"
          }
        }
      ]
    },
    {
      "cell_type": "code",
      "source": [
        "y_train[5]"
      ],
      "metadata": {
        "colab": {
          "base_uri": "https://localhost:8080/"
        },
        "id": "C5Xjx72mu9La",
        "outputId": "fb5dfeda-fe64-42f1-f306-4152a2bb4234"
      },
      "execution_count": null,
      "outputs": [
        {
          "output_type": "execute_result",
          "data": {
            "text/plain": [
              "2"
            ]
          },
          "metadata": {},
          "execution_count": 10
        }
      ]
    },
    {
      "cell_type": "code",
      "source": [
        "X_train.shape"
      ],
      "metadata": {
        "colab": {
          "base_uri": "https://localhost:8080/"
        },
        "id": "YCJX1-yyvJfZ",
        "outputId": "dde6673b-eda5-4bd9-ef42-8562668a1ea9"
      },
      "execution_count": null,
      "outputs": [
        {
          "output_type": "execute_result",
          "data": {
            "text/plain": [
              "(60000, 28, 28)"
            ]
          },
          "metadata": {},
          "execution_count": 11
        }
      ]
    },
    {
      "cell_type": "code",
      "source": [
        "X_train = X_train / 255\n",
        "X_test = X_test / 255"
      ],
      "metadata": {
        "id": "AfmwhzKV_jaZ"
      },
      "execution_count": null,
      "outputs": []
    },
    {
      "cell_type": "code",
      "source": [
        "X_train_flattened = X_train.reshape(len(X_train), 28*28)\n",
        "X_test_flattened = X_test.reshape(len(X_test), 28*28)"
      ],
      "metadata": {
        "id": "sPeiYKlJ6zjx"
      },
      "execution_count": null,
      "outputs": []
    },
    {
      "cell_type": "code",
      "source": [
        "X_train_flattened.shape"
      ],
      "metadata": {
        "colab": {
          "base_uri": "https://localhost:8080/"
        },
        "id": "XcyEyluo7TPo",
        "outputId": "b59f2a54-131f-451e-ffcf-d7c2c9ade400"
      },
      "execution_count": null,
      "outputs": [
        {
          "output_type": "execute_result",
          "data": {
            "text/plain": [
              "(60000, 784)"
            ]
          },
          "metadata": {},
          "execution_count": 14
        }
      ]
    },
    {
      "cell_type": "code",
      "source": [
        "X_train_flattened[0]\n"
      ],
      "metadata": {
        "id": "-FTfTwg-7Xlf"
      },
      "execution_count": null,
      "outputs": []
    },
    {
      "cell_type": "markdown",
      "source": [
        "Creating NN model"
      ],
      "metadata": {
        "id": "2nOjf7VlFJ6c"
      }
    },
    {
      "cell_type": "markdown",
      "source": [
        "Adam optimiser"
      ],
      "metadata": {
        "id": "eIrZ1j72FNZF"
      }
    },
    {
      "cell_type": "code",
      "source": [
        "model = keras.Sequential([\n",
        "    keras.layers.Dense(10, input_shape=(784,), activation='sigmoid')\n",
        "])\n",
        "\n",
        "model.compile(optimizer='adam',\n",
        "              loss='sparse_categorical_crossentropy',\n",
        "              metrics=['accuracy'])\n",
        "\n",
        "model.fit(X_train_flattened, y_train, epochs=5)"
      ],
      "metadata": {
        "colab": {
          "base_uri": "https://localhost:8080/"
        },
        "id": "hc7vJwV47sVQ",
        "outputId": "9995144b-cc34-46b4-87a1-ac5bce77426c"
      },
      "execution_count": null,
      "outputs": [
        {
          "output_type": "stream",
          "name": "stdout",
          "text": [
            "Epoch 1/5\n",
            "1875/1875 [==============================] - 10s 3ms/step - loss: 0.4640 - accuracy: 0.8779\n",
            "Epoch 2/5\n",
            "1875/1875 [==============================] - 8s 4ms/step - loss: 0.3034 - accuracy: 0.9150\n",
            "Epoch 3/5\n",
            "1875/1875 [==============================] - 7s 4ms/step - loss: 0.2833 - accuracy: 0.9214\n",
            "Epoch 4/5\n",
            "1875/1875 [==============================] - 7s 4ms/step - loss: 0.2731 - accuracy: 0.9232\n",
            "Epoch 5/5\n",
            "1875/1875 [==============================] - 7s 4ms/step - loss: 0.2662 - accuracy: 0.9261\n"
          ]
        },
        {
          "output_type": "execute_result",
          "data": {
            "text/plain": [
              "<keras.callbacks.History at 0x7fb595663550>"
            ]
          },
          "metadata": {},
          "execution_count": 16
        }
      ]
    },
    {
      "cell_type": "code",
      "source": [
        "model.evaluate(X_test_flattened, y_test)"
      ],
      "metadata": {
        "colab": {
          "base_uri": "https://localhost:8080/"
        },
        "id": "dWuOOcmx9yKg",
        "outputId": "0140b088-f7c1-481e-8b00-95a9f2931921"
      },
      "execution_count": null,
      "outputs": [
        {
          "output_type": "stream",
          "name": "stdout",
          "text": [
            "313/313 [==============================] - 2s 5ms/step - loss: 0.2662 - accuracy: 0.9262\n"
          ]
        },
        {
          "output_type": "execute_result",
          "data": {
            "text/plain": [
              "[0.26616767048835754, 0.9261999726295471]"
            ]
          },
          "metadata": {},
          "execution_count": 17
        }
      ]
    },
    {
      "cell_type": "markdown",
      "source": [
        "SGD optimiser"
      ],
      "metadata": {
        "id": "emUmNIRcFkIQ"
      }
    },
    {
      "cell_type": "code",
      "source": [
        "model = keras.Sequential([\n",
        "    keras.layers.Dense(10, input_shape=(784,), activation='sigmoid')\n",
        "])\n",
        "\n",
        "model.compile(optimizer='SGD',\n",
        "              loss='sparse_categorical_crossentropy',\n",
        "              metrics=['accuracy'])\n",
        "\n",
        "model.fit(X_train_flattened, y_train, epochs=5)"
      ],
      "metadata": {
        "colab": {
          "base_uri": "https://localhost:8080/"
        },
        "id": "7gFQ_r5RFhV1",
        "outputId": "681324b2-114c-4bb8-8b49-d0c11f1e584b"
      },
      "execution_count": null,
      "outputs": [
        {
          "output_type": "stream",
          "name": "stdout",
          "text": [
            "Epoch 1/5\n",
            "1875/1875 [==============================] - 9s 4ms/step - loss: 0.7880 - accuracy: 0.8083\n",
            "Epoch 2/5\n",
            "1875/1875 [==============================] - 4s 2ms/step - loss: 0.4562 - accuracy: 0.8809\n",
            "Epoch 3/5\n",
            "1875/1875 [==============================] - 4s 2ms/step - loss: 0.4031 - accuracy: 0.8913\n",
            "Epoch 4/5\n",
            "1875/1875 [==============================] - 4s 2ms/step - loss: 0.3767 - accuracy: 0.8966\n",
            "Epoch 5/5\n",
            "1875/1875 [==============================] - 4s 2ms/step - loss: 0.3599 - accuracy: 0.9004\n"
          ]
        },
        {
          "output_type": "execute_result",
          "data": {
            "text/plain": [
              "<keras.callbacks.History at 0x7fb4f44a5310>"
            ]
          },
          "metadata": {},
          "execution_count": 18
        }
      ]
    },
    {
      "cell_type": "code",
      "source": [
        "model.evaluate(X_test_flattened, y_test)"
      ],
      "metadata": {
        "colab": {
          "base_uri": "https://localhost:8080/"
        },
        "id": "9IsL4ThpFu3R",
        "outputId": "c8f29cd5-09bf-4ca2-9951-211effc65aa4"
      },
      "execution_count": null,
      "outputs": [
        {
          "output_type": "stream",
          "name": "stdout",
          "text": [
            "313/313 [==============================] - 1s 2ms/step - loss: 0.3350 - accuracy: 0.9088\n"
          ]
        },
        {
          "output_type": "execute_result",
          "data": {
            "text/plain": [
              "[0.33497941493988037, 0.9088000059127808]"
            ]
          },
          "metadata": {},
          "execution_count": 19
        }
      ]
    },
    {
      "cell_type": "markdown",
      "source": [
        "Adagrad Optimiser"
      ],
      "metadata": {
        "id": "IFi1dDgVF5PZ"
      }
    },
    {
      "cell_type": "code",
      "source": [
        "model = keras.Sequential([\n",
        "    keras.layers.Dense(10, input_shape=(784,), activation='sigmoid')\n",
        "])\n",
        "\n",
        "model.compile(optimizer='adagrad',\n",
        "              loss='sparse_categorical_crossentropy',\n",
        "              metrics=['accuracy'])\n",
        "\n",
        "model.fit(X_train_flattened, y_train, epochs=5)"
      ],
      "metadata": {
        "colab": {
          "base_uri": "https://localhost:8080/"
        },
        "id": "N46_yH7fF43S",
        "outputId": "5fa36085-2cc4-446a-ee4c-d2100083918f"
      },
      "execution_count": null,
      "outputs": [
        {
          "output_type": "stream",
          "name": "stdout",
          "text": [
            "Epoch 1/5\n",
            "1875/1875 [==============================] - 5s 2ms/step - loss: 1.5321 - accuracy: 0.6397\n",
            "Epoch 2/5\n",
            "1875/1875 [==============================] - 4s 2ms/step - loss: 1.0468 - accuracy: 0.7946\n",
            "Epoch 3/5\n",
            "1875/1875 [==============================] - 5s 3ms/step - loss: 0.8837 - accuracy: 0.8210\n",
            "Epoch 4/5\n",
            "1875/1875 [==============================] - 4s 2ms/step - loss: 0.7938 - accuracy: 0.8332\n",
            "Epoch 5/5\n",
            "1875/1875 [==============================] - 4s 2ms/step - loss: 0.7348 - accuracy: 0.8414\n"
          ]
        },
        {
          "output_type": "execute_result",
          "data": {
            "text/plain": [
              "<keras.callbacks.History at 0x7fb4f43c5f40>"
            ]
          },
          "metadata": {},
          "execution_count": 20
        }
      ]
    },
    {
      "cell_type": "code",
      "source": [
        "model.evaluate(X_test_flattened, y_test)"
      ],
      "metadata": {
        "colab": {
          "base_uri": "https://localhost:8080/"
        },
        "id": "Tx3KEeQxF_46",
        "outputId": "d6e8609b-777b-4371-f1f0-f6f025ee0b0b"
      },
      "execution_count": null,
      "outputs": [
        {
          "output_type": "stream",
          "name": "stdout",
          "text": [
            "313/313 [==============================] - 1s 2ms/step - loss: 0.6900 - accuracy: 0.8522\n"
          ]
        },
        {
          "output_type": "execute_result",
          "data": {
            "text/plain": [
              "[0.6900110244750977, 0.8521999716758728]"
            ]
          },
          "metadata": {},
          "execution_count": 21
        }
      ]
    },
    {
      "cell_type": "markdown",
      "source": [
        "Comparison of different optimisers"
      ],
      "metadata": {
        "id": "VrLJGb0GIhKk"
      }
    },
    {
      "cell_type": "markdown",
      "source": [
        "![capture.png](data:image/png;base64,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)"
      ],
      "metadata": {
        "id": "a8V-9yJ9IONU"
      }
    },
    {
      "cell_type": "markdown",
      "source": [
        "  \n",
        "\n",
        "---\n",
        "\n",
        "\n",
        "\n",
        "---\n",
        "\n",
        "\n",
        "\n",
        "---\n",
        "\n"
      ],
      "metadata": {
        "id": "VnJNVVxZIpgs"
      }
    },
    {
      "cell_type": "markdown",
      "source": [
        "\n",
        "\n",
        "---\n",
        "\n",
        "\n",
        "\n",
        "---\n",
        "\n",
        "\n",
        "\n",
        "---\n",
        "\n",
        "\n",
        "\n",
        "---\n",
        "\n"
      ],
      "metadata": {
        "id": "_5LExS82IvkH"
      }
    },
    {
      "cell_type": "markdown",
      "source": [
        "Prediction\n"
      ],
      "metadata": {
        "id": "uBujs5ViGB-s"
      }
    },
    {
      "cell_type": "code",
      "source": [
        "plt.matshow(X_test[1])"
      ],
      "metadata": {
        "colab": {
          "base_uri": "https://localhost:8080/",
          "height": 292
        },
        "id": "DNamDbBr-ik4",
        "outputId": "7f0863ec-4a20-4518-8796-0db877203c08"
      },
      "execution_count": null,
      "outputs": [
        {
          "output_type": "execute_result",
          "data": {
            "text/plain": [
              "<matplotlib.image.AxesImage at 0x7f72582e09d0>"
            ]
          },
          "metadata": {},
          "execution_count": 18
        },
        {
          "output_type": "display_data",
          "data": {
            "text/plain": [
              "<Figure size 288x288 with 1 Axes>"
            ],
            "image/png": "[encoded data removed]"
          },
          "metadata": {
            "needs_background": "light"
          }
        }
      ]
    },
    {
      "cell_type": "code",
      "source": [
        "y_predicted = model.predict(X_test_flattened)\n",
        "y_predicted[1]"
      ],
      "metadata": {
        "colab": {
          "base_uri": "https://localhost:8080/"
        },
        "id": "xcUOqgem_JPf",
        "outputId": "bf4e2ea0-e0d5-4999-a060-64cc6d1b7a9a"
      },
      "execution_count": null,
      "outputs": [
        {
          "output_type": "stream",
          "name": "stdout",
          "text": [
            "313/313 [==============================] - 1s 1ms/step\n"
          ]
        },
        {
          "output_type": "execute_result",
          "data": {
            "text/plain": [
              "array([5.3184938e-01, 1.0858139e-02, 9.9951756e-01, 3.6365193e-01,\n",
              "       5.5652499e-10, 8.7456083e-01, 8.8988143e-01, 6.3396386e-13,\n",
              "       2.0524806e-01, 1.7743669e-09], dtype=float32)"
            ]
          },
          "metadata": {},
          "execution_count": 19
        }
      ]
    },
    {
      "cell_type": "markdown",
      "source": [
        "np.argmax finds a maximum element from an array and returns the index of it"
      ],
      "metadata": {
        "id": "RtUppTFPC4d7"
      }
    },
    {
      "cell_type": "code",
      "source": [
        "np.argmax(y_predicted[1])"
      ],
      "metadata": {
        "colab": {
          "base_uri": "https://localhost:8080/"
        },
        "id": "D7a111Ne_Rtg",
        "outputId": "bf395e7e-ddc4-4ebb-afef-40157f02f6d2"
      },
      "execution_count": null,
      "outputs": [
        {
          "output_type": "execute_result",
          "data": {
            "text/plain": [
              "2"
            ]
          },
          "metadata": {},
          "execution_count": 20
        }
      ]
    },
    {
      "cell_type": "code",
      "source": [
        "y_predicted_labels = [np.argmax(i) for i in y_predicted]"
      ],
      "metadata": {
        "id": "9ML_GDyN_VBA"
      },
      "execution_count": null,
      "outputs": []
    },
    {
      "cell_type": "code",
      "source": [
        "y_predicted_labels[:5]"
      ],
      "metadata": {
        "colab": {
          "base_uri": "https://localhost:8080/"
        },
        "id": "0jCEa-flA8py",
        "outputId": "e5fd7dd4-8607-4366-fb7e-c297847fb0a3"
      },
      "execution_count": null,
      "outputs": [
        {
          "output_type": "execute_result",
          "data": {
            "text/plain": [
              "[7, 2, 1, 0, 4]"
            ]
          },
          "metadata": {},
          "execution_count": 22
        }
      ]
    },
    {
      "cell_type": "code",
      "source": [
        "cm = tf.math.confusion_matrix(labels=y_test,predictions=y_predicted_labels)\n",
        "cm"
      ],
      "metadata": {
        "colab": {
          "base_uri": "https://localhost:8080/"
        },
        "id": "EdsATeJJBBH4",
        "outputId": "f2f189b4-f82f-4fab-ef1f-c20454e06921"
      },
      "execution_count": null,
      "outputs": [
        {
          "output_type": "execute_result",
          "data": {
            "text/plain": [
              "<tf.Tensor: shape=(10, 10), dtype=int32, numpy=\n",
              "array([[ 968,    0,    1,    2,    0,    4,    2,    2,    1,    0],\n",
              "       [   0, 1110,    3,    2,    0,    1,    4,    2,   13,    0],\n",
              "       [  12,   10,  914,   20,    7,    2,   12,   10,   42,    3],\n",
              "       [   4,    0,   13,  928,    0,   22,    2,   10,   24,    7],\n",
              "       [   2,    1,    4,    2,  920,    0,    9,    3,   10,   31],\n",
              "       [  12,    2,    2,   36,    8,  781,   13,    4,   29,    5],\n",
              "       [  15,    3,    4,    1,    8,   12,  910,    2,    3,    0],\n",
              "       [   4,    6,   20,   10,   10,    0,    0,  947,    4,   27],\n",
              "       [  10,    8,    6,   21,    9,   27,    9,   11,  867,    6],\n",
              "       [  11,    7,    1,   11,   29,    8,    0,   18,    7,  917]],\n",
              "      dtype=int32)>"
            ]
          },
          "metadata": {},
          "execution_count": 23
        }
      ]
    },
    {
      "cell_type": "code",
      "source": [
        "import seaborn as sn\n",
        "plt.figure(figsize = (10,7))\n",
        "sn.heatmap(cm, annot=True, fmt='d')\n",
        "plt.xlabel('Predicted')\n",
        "plt.ylabel('Truth')"
      ],
      "metadata": {
        "id": "J1cdLL1pBD7J"
      },
      "execution_count": null,
      "outputs": []
    },
    {
      "cell_type": "markdown",
      "source": [
        "Using hidden layer"
      ],
      "metadata": {
        "id": "ixrQqR51C8eg"
      }
    },
    {
      "cell_type": "code",
      "source": [
        "model = keras.Sequential([\n",
        "    keras.layers.Dense(100, input_shape=(784,), activation='relu'),\n",
        "    keras.layers.Dense(10, activation='sigmoid')\n",
        "])\n",
        "\n",
        "model.compile(optimizer='adam',\n",
        "              loss='sparse_categorical_crossentropy',\n",
        "              metrics=['accuracy'])\n",
        "\n",
        "model.fit(X_train_flattened, y_train, epochs=5)"
      ],
      "metadata": {
        "colab": {
          "base_uri": "https://localhost:8080/"
        },
        "id": "MByvHe1pBGeA",
        "outputId": "8dd23402-686c-42cb-9347-d83da88d0f78"
      },
      "execution_count": null,
      "outputs": [
        {
          "output_type": "stream",
          "name": "stdout",
          "text": [
            "Epoch 1/5\n",
            "1875/1875 [==============================] - 7s 3ms/step - loss: 0.2735 - accuracy: 0.9217\n",
            "Epoch 2/5\n",
            "1875/1875 [==============================] - 10s 5ms/step - loss: 0.1271 - accuracy: 0.9627\n",
            "Epoch 3/5\n",
            "1875/1875 [==============================] - 8s 4ms/step - loss: 0.0887 - accuracy: 0.9728\n",
            "Epoch 4/5\n",
            "1875/1875 [==============================] - 5s 3ms/step - loss: 0.0675 - accuracy: 0.9797\n",
            "Epoch 5/5\n",
            "1875/1875 [==============================] - 5s 3ms/step - loss: 0.0529 - accuracy: 0.9842\n"
          ]
        },
        {
          "output_type": "execute_result",
          "data": {
            "text/plain": [
              "<keras.callbacks.History at 0x7f721607b850>"
            ]
          },
          "metadata": {},
          "execution_count": 25
        }
      ]
    },
    {
      "cell_type": "code",
      "source": [
        "model.evaluate(X_test_flattened,y_test)"
      ],
      "metadata": {
        "colab": {
          "base_uri": "https://localhost:8080/"
        },
        "id": "G-F8N6z8Dfdr",
        "outputId": "427a6cff-0bcd-4718-ce3d-0dd0d9374845"
      },
      "execution_count": null,
      "outputs": [
        {
          "output_type": "stream",
          "name": "stdout",
          "text": [
            "313/313 [==============================] - 1s 2ms/step - loss: 0.0736 - accuracy: 0.9766\n"
          ]
        },
        {
          "output_type": "execute_result",
          "data": {
            "text/plain": [
              "[0.0736088827252388, 0.9765999913215637]"
            ]
          },
          "metadata": {},
          "execution_count": 26
        }
      ]
    },
    {
      "cell_type": "code",
      "source": [],
      "metadata": {
        "id": "fo7RrJvLDpiQ"
      },
      "execution_count": null,
      "outputs": []
    }
  ]
}